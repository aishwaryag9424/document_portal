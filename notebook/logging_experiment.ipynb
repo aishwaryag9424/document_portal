{
 "cells": [
  {
   "cell_type": "code",
   "execution_count": 2,
   "id": "ea10787c",
   "metadata": {},
   "outputs": [],
   "source": [
    "import logging\n",
    "import os\n",
    "from datetime import datetime"
   ]
  },
  {
   "cell_type": "code",
   "execution_count": 3,
   "id": "b871a54f",
   "metadata": {},
   "outputs": [
    {
     "data": {
      "text/plain": [
       "'/Users/aishwaryagopalakrishnan/document_portal/notebook'"
      ]
     },
     "execution_count": 3,
     "metadata": {},
     "output_type": "execute_result"
    }
   ],
   "source": [
    "\n",
    "os.getcwd()"
   ]
  },
  {
   "cell_type": "code",
   "execution_count": null,
   "id": "626c47b2",
   "metadata": {},
   "outputs": [],
   "source": [
    "logs_dir=os.path.join(os.getcwd(),\"logs\") # creating a new folder for logs\n",
    "os.makedirs(logs_dir, exist_ok=True) # if exists then does not throw error"
   ]
  },
  {
   "cell_type": "code",
   "execution_count": 5,
   "id": "84fd821a",
   "metadata": {},
   "outputs": [],
   "source": [
    "LOG_FILE = f\"{datetime.now().strftime('%m_%d_%Y_%H_%M_%S')}.log\""
   ]
  },
  {
   "cell_type": "code",
   "execution_count": null,
   "id": "5da26807",
   "metadata": {},
   "outputs": [
    {
     "data": {
      "text/plain": [
       "'07_28_2025_18_06_53.log'"
      ]
     },
     "execution_count": 8,
     "metadata": {},
     "output_type": "execute_result"
    }
   ],
   "source": [
    "#this is a log file(name of the log file would current data and time)\n",
    "LOG_FILE "
   ]
  },
  {
   "cell_type": "code",
   "execution_count": 9,
   "id": "76da08dc",
   "metadata": {},
   "outputs": [],
   "source": [
    "LOG_FILE_PATH=os.path.join(logs_dir, LOG_FILE)"
   ]
  },
  {
   "cell_type": "code",
   "execution_count": null,
   "id": "fe947f2b",
   "metadata": {},
   "outputs": [
    {
     "data": {
      "text/plain": [
       "'/Users/aishwaryagopalakrishnan/document_portal/notebook/logs/07_28_2025_18_06_53.log'"
      ]
     },
     "execution_count": 10,
     "metadata": {},
     "output_type": "execute_result"
    }
   ],
   "source": [
    "LOG_FILE_PATH # testing the path of log file"
   ]
  },
  {
   "cell_type": "code",
   "execution_count": 11,
   "id": "f3782d53",
   "metadata": {},
   "outputs": [],
   "source": [
    "logging.basicConfig(\n",
    "    filename=LOG_FILE_PATH,\n",
    "    format=\"[ %(asctime)s ] %(levelname)s %(name)s (line:%(lineno)d) - %(message)s\",\n",
    "    level=logging.INFO,\n",
    ")"
   ]
  },
  {
   "cell_type": "code",
   "execution_count": 12,
   "id": "b8a94f28",
   "metadata": {},
   "outputs": [],
   "source": [
    "logger=logging.getLogger(\"DocumentPortal\")"
   ]
  },
  {
   "cell_type": "code",
   "execution_count": 13,
   "id": "cbb77795",
   "metadata": {},
   "outputs": [],
   "source": [
    "logger.info(\"This is an info message\")"
   ]
  },
  {
   "cell_type": "code",
   "execution_count": 14,
   "id": "b598a465",
   "metadata": {},
   "outputs": [],
   "source": [
    "import structlog\n",
    "log=structlog.get_logger()"
   ]
  },
  {
   "cell_type": "code",
   "execution_count": 15,
   "id": "9b2e1bc1",
   "metadata": {},
   "outputs": [
    {
     "name": "stdout",
     "output_type": "stream",
     "text": [
      "\u001b[2m2025-07-28 18:12:25\u001b[0m [\u001b[32m\u001b[1minfo     \u001b[0m] \u001b[1mUser uploaded a file          \u001b[0m \u001b[36mfilename\u001b[0m=\u001b[35mreport.pdf\u001b[0m \u001b[36muser_id\u001b[0m=\u001b[35m123\u001b[0m\n"
     ]
    }
   ],
   "source": [
    "log.info(\"User uploaded a file\", user_id=123, filename=\"report.pdf\")"
   ]
  },
  {
   "cell_type": "code",
   "execution_count": 16,
   "id": "9f9e278a",
   "metadata": {},
   "outputs": [
    {
     "name": "stdout",
     "output_type": "stream",
     "text": [
      "\u001b[2m2025-07-28 18:12:36\u001b[0m [\u001b[31m\u001b[1merror    \u001b[0m] \u001b[1mFailed to process PDF         \u001b[0m \u001b[36merror\u001b[0m=\u001b[35m'File not found'\u001b[0m \u001b[36muser_id\u001b[0m=\u001b[35m123\u001b[0m\n"
     ]
    }
   ],
   "source": [
    "log.error(\"Failed to process PDF\", error=\"File not found\", user_id=123)"
   ]
  },
  {
   "cell_type": "code",
   "execution_count": 1,
   "id": "e28566ad",
   "metadata": {},
   "outputs": [],
   "source": [
    "class MyClass:\n",
    "    def __init__(self, name):\n",
    "        self.name = name\n",
    "    \n",
    "    def __str__(self):\n",
    "        return f\"MyClass object with name: {self.name}\"\n",
    "    \n",
    "    def __repr__(self):\n",
    "        return f\"MyClass object with name: {self.name}\""
   ]
  },
  {
   "cell_type": "code",
   "execution_count": null,
   "id": "34d3fee1",
   "metadata": {},
   "outputs": [],
   "source": [
    "obj=MyClass(\"ash\")"
   ]
  },
  {
   "cell_type": "code",
   "execution_count": 3,
   "id": "14865be2",
   "metadata": {},
   "outputs": [
    {
     "name": "stdout",
     "output_type": "stream",
     "text": [
      "MyClass object with name: sunny\n"
     ]
    }
   ],
   "source": [
    "print(obj)"
   ]
  }
 ],
 "metadata": {
  "kernelspec": {
   "display_name": "env (3.12.2)",
   "language": "python",
   "name": "python3"
  },
  "language_info": {
   "codemirror_mode": {
    "name": "ipython",
    "version": 3
   },
   "file_extension": ".py",
   "mimetype": "text/x-python",
   "name": "python",
   "nbconvert_exporter": "python",
   "pygments_lexer": "ipython3",
   "version": "3.12.2"
  }
 },
 "nbformat": 4,
 "nbformat_minor": 5
}
